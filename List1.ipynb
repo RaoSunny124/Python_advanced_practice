{
 "cells": [
  {
   "cell_type": "markdown",
   "metadata": {},
   "source": [
    "# Lists"
   ]
  },
  {
   "cell_type": "code",
   "execution_count": 4,
   "metadata": {},
   "outputs": [
    {
     "name": "stdout",
     "output_type": "stream",
     "text": [
      "['Ali', 'Sherry', 'Huzaifa']\n"
     ]
    }
   ],
   "source": [
    "names = ['Ali' , 'Sherry' , 'Huzaifa']\n",
    "print(names)"
   ]
  },
  {
   "cell_type": "code",
   "execution_count": 5,
   "metadata": {},
   "outputs": [
    {
     "name": "stdout",
     "output_type": "stream",
     "text": [
      "Ali\n",
      "Sherry\n",
      "Huzaifa\n"
     ]
    }
   ],
   "source": [
    "print(names[0])\n",
    "print(names[1])\n",
    "print(names[2])"
   ]
  },
  {
   "cell_type": "code",
   "execution_count": 6,
   "metadata": {},
   "outputs": [
    {
     "data": {
      "text/plain": [
       "0"
      ]
     },
     "execution_count": 6,
     "metadata": {},
     "output_type": "execute_result"
    }
   ],
   "source": [
    "names.index('Ali')"
   ]
  },
  {
   "cell_type": "code",
   "execution_count": 7,
   "metadata": {},
   "outputs": [
    {
     "data": {
      "text/plain": [
       "['Ali', 'Sherry', 'Huzaifa']"
      ]
     },
     "execution_count": 7,
     "metadata": {},
     "output_type": "execute_result"
    }
   ],
   "source": [
    "names"
   ]
  },
  {
   "cell_type": "code",
   "execution_count": 8,
   "metadata": {},
   "outputs": [
    {
     "name": "stdout",
     "output_type": "stream",
     "text": [
      "Hello Ali! I hope u are fine\n",
      "Hello Sherry! I hope u are fine\n",
      "Hello Huzaifa! I hope u are fine\n"
     ]
    }
   ],
   "source": [
    "for name in names:\n",
    "   print(f'Hello {name}! I hope u are fine')\n",
    "\n"
   ]
  },
  {
   "cell_type": "code",
   "execution_count": 9,
   "metadata": {},
   "outputs": [
    {
     "name": "stdout",
     "output_type": "stream",
     "text": [
      "['Hoda', 'Royal royas', 'suzuki']\n"
     ]
    }
   ],
   "source": [
    "favourite_tranport = ['Hoda' , 'Royal royas' , 'suzuki']\n",
    "print(favourite_tranport)"
   ]
  },
  {
   "cell_type": "code",
   "execution_count": 10,
   "metadata": {},
   "outputs": [
    {
     "name": "stdout",
     "output_type": "stream",
     "text": [
      "I like Hoda company vehicle.🚗✨😊\n",
      "I like Royal royas company vehicle.🚗✨😊\n",
      "I like suzuki company vehicle.🚗✨😊\n"
     ]
    }
   ],
   "source": [
    "for transport in favourite_tranport:\n",
    "    print(f'I like {transport} company vehicle.🚗✨😊')"
   ]
  },
  {
   "cell_type": "code",
   "execution_count": 11,
   "metadata": {},
   "outputs": [
    {
     "name": "stdout",
     "output_type": "stream",
     "text": [
      "['Ali', 'Huzaifa', 'Mazhar']\n"
     ]
    }
   ],
   "source": [
    "sajjan_beli = ['Ali' , 'Huzaifa' , 'Mazhar']\n",
    "print(sajjan_beli)"
   ]
  },
  {
   "cell_type": "code",
   "execution_count": 12,
   "metadata": {},
   "outputs": [
    {
     "name": "stdout",
     "output_type": "stream",
     "text": [
      "🍕 Dear Ali! 😄 Can you please come for dinner? 🍽️ First I invite you, then you invite me! 😂\n",
      "🍕 Dear Huzaifa! 😄 Can you please come for dinner? 🍽️ First I invite you, then you invite me! 😂\n",
      "🍕 Dear Mazhar! 😄 Can you please come for dinner? 🍽️ First I invite you, then you invite me! 😂\n"
     ]
    }
   ],
   "source": [
    "for good_friends in sajjan_beli:\n",
    "    print(f'🍕 Dear {good_friends}! 😄 Can you please come for dinner? 🍽️ First I invite you, then you invite me! 😂')\n"
   ]
  },
  {
   "cell_type": "code",
   "execution_count": 13,
   "metadata": {},
   "outputs": [
    {
     "name": "stdout",
     "output_type": "stream",
     "text": [
      "Mazhar\n"
     ]
    }
   ],
   "source": [
    "print(good_friends)"
   ]
  },
  {
   "cell_type": "code",
   "execution_count": 14,
   "metadata": {},
   "outputs": [
    {
     "data": {
      "text/plain": [
       "'Mazhar'"
      ]
     },
     "execution_count": 14,
     "metadata": {},
     "output_type": "execute_result"
    }
   ],
   "source": [
    "sajjan_beli.pop()"
   ]
  },
  {
   "cell_type": "code",
   "execution_count": 15,
   "metadata": {},
   "outputs": [],
   "source": [
    "sajjan_beli.append('Huzaifa')"
   ]
  },
  {
   "cell_type": "code",
   "execution_count": 16,
   "metadata": {},
   "outputs": [
    {
     "name": "stdout",
     "output_type": "stream",
     "text": [
      "['Ali', 'Huzaifa', 'Huzaifa']\n"
     ]
    }
   ],
   "source": [
    "print(sajjan_beli)\n",
    "sajjan_beli.append('Mazhar') \n"
   ]
  },
  {
   "cell_type": "code",
   "execution_count": 17,
   "metadata": {},
   "outputs": [
    {
     "name": "stdout",
     "output_type": "stream",
     "text": [
      "['Ali', 'Huzaifa', 'Huzaifa', 'Mazhar']\n"
     ]
    }
   ],
   "source": [
    "print(sajjan_beli)"
   ]
  },
  {
   "cell_type": "code",
   "execution_count": 18,
   "metadata": {},
   "outputs": [
    {
     "data": {
      "text/plain": [
       "3"
      ]
     },
     "execution_count": 18,
     "metadata": {},
     "output_type": "execute_result"
    }
   ],
   "source": [
    "sajjan_beli.index('Mazhar')"
   ]
  },
  {
   "cell_type": "code",
   "execution_count": 19,
   "metadata": {},
   "outputs": [
    {
     "name": "stdout",
     "output_type": "stream",
     "text": [
      "Mazhar says! sorry I am busy\n"
     ]
    }
   ],
   "source": [
    "busy = 'Mazhar'\n",
    "print(f'{busy} says! sorry I am busy')"
   ]
  },
  {
   "cell_type": "code",
   "execution_count": 20,
   "metadata": {},
   "outputs": [],
   "source": [
    "sajjan_beli[2] = 'Farhan'"
   ]
  },
  {
   "cell_type": "code",
   "execution_count": 21,
   "metadata": {},
   "outputs": [
    {
     "name": "stdout",
     "output_type": "stream",
     "text": [
      "['Ali', 'Huzaifa', 'Farhan', 'Mazhar']\n"
     ]
    }
   ],
   "source": [
    "print(sajjan_beli)"
   ]
  },
  {
   "cell_type": "code",
   "execution_count": 22,
   "metadata": {},
   "outputs": [
    {
     "name": "stdout",
     "output_type": "stream",
     "text": [
      "Dear Ali! u are invte for dinner.Plz be on time.🕒😊\n",
      "Dear Huzaifa! u are invte for dinner.Plz be on time.🕒😊\n",
      "Dear Farhan! u are invte for dinner.Plz be on time.🕒😊\n",
      "Dear Mazhar! u are invte for dinner.Plz be on time.🕒😊\n"
     ]
    }
   ],
   "source": [
    "for inviting_friend in sajjan_beli:\n",
    "    print(f'Dear {inviting_friend}! u are invte for dinner.Plz be on time.🕒😊')"
   ]
  },
  {
   "cell_type": "code",
   "execution_count": 23,
   "metadata": {},
   "outputs": [],
   "source": [
    "# for more_people in sajjan_beli:\n",
    "#     print(f'Dear {more_people}! I have found a big table.So, I have invite some more people.')"
   ]
  },
  {
   "cell_type": "code",
   "execution_count": 24,
   "metadata": {},
   "outputs": [],
   "source": [
    "sajjan_beli.insert(0 , 'sami')"
   ]
  },
  {
   "cell_type": "code",
   "execution_count": 25,
   "metadata": {},
   "outputs": [
    {
     "name": "stdout",
     "output_type": "stream",
     "text": [
      "['sami', 'Ali', 'Huzaifa', 'Farhan', 'Mazhar']\n"
     ]
    }
   ],
   "source": [
    "print(sajjan_beli)"
   ]
  },
  {
   "cell_type": "code",
   "execution_count": 26,
   "metadata": {},
   "outputs": [],
   "source": [
    "sajjan_beli.insert(2 , 'zain Ahamad')"
   ]
  },
  {
   "cell_type": "code",
   "execution_count": 27,
   "metadata": {},
   "outputs": [
    {
     "name": "stdout",
     "output_type": "stream",
     "text": [
      "['sami', 'Ali', 'zain Ahamad', 'Huzaifa', 'Farhan', 'Mazhar']\n"
     ]
    }
   ],
   "source": [
    "print(sajjan_beli)"
   ]
  },
  {
   "cell_type": "code",
   "execution_count": 28,
   "metadata": {},
   "outputs": [
    {
     "data": {
      "text/plain": [
       "'zain Ahamad'"
      ]
     },
     "execution_count": 28,
     "metadata": {},
     "output_type": "execute_result"
    }
   ],
   "source": [
    "sajjan_beli.pop(2)"
   ]
  },
  {
   "cell_type": "code",
   "execution_count": 29,
   "metadata": {},
   "outputs": [
    {
     "name": "stdout",
     "output_type": "stream",
     "text": [
      "['sami', 'Ali', 'Huzaifa', 'Farhan', 'Mazhar']\n"
     ]
    }
   ],
   "source": [
    "print(sajjan_beli)"
   ]
  },
  {
   "cell_type": "code",
   "execution_count": 30,
   "metadata": {},
   "outputs": [
    {
     "name": "stdout",
     "output_type": "stream",
     "text": [
      "['sami', 'Ali', 'Huzaifa', 'Farhan', 'Mazhar', 'Faizan']\n"
     ]
    }
   ],
   "source": [
    "sajjan_beli.append('Faizan')\n",
    "print(sajjan_beli)"
   ]
  },
  {
   "cell_type": "code",
   "execution_count": 31,
   "metadata": {},
   "outputs": [
    {
     "name": "stdout",
     "output_type": "stream",
     "text": [
      "Dear sami! u are invite for dinner but plz don’t eat too much! 😄. \n",
      "Dear Ali! u are invite for dinner but plz don’t eat too much! 😄. \n",
      "Dear Huzaifa! u are invite for dinner but plz don’t eat too much! 😄. \n",
      "Dear Farhan! u are invite for dinner but plz don’t eat too much! 😄. \n",
      "Dear Mazhar! u are invite for dinner but plz don’t eat too much! 😄. \n",
      "Dear Faizan! u are invite for dinner but plz don’t eat too much! 😄. \n"
     ]
    }
   ],
   "source": [
    "for big_dinner in sajjan_beli:\n",
    "    print(f\"Dear {big_dinner}! u are invite for dinner but plz don’t eat too much! 😄. \")"
   ]
  },
  {
   "cell_type": "code",
   "execution_count": 32,
   "metadata": {},
   "outputs": [
    {
     "name": "stdout",
     "output_type": "stream",
     "text": [
      "Sorry, Dear sami! I invite only two people for dinner.\n",
      "Sorry, Dear Ali! I invite only two people for dinner.\n",
      "Sorry, Dear Huzaifa! I invite only two people for dinner.\n",
      "Sorry, Dear Farhan! I invite only two people for dinner.\n",
      "Sorry, Dear Mazhar! I invite only two people for dinner.\n",
      "Sorry, Dear Faizan! I invite only two people for dinner.\n"
     ]
    }
   ],
   "source": [
    "for small_table in sajjan_beli:\n",
    "    print(f'Sorry, Dear {small_table}! I invite only two people for dinner.')"
   ]
  },
  {
   "cell_type": "code",
   "execution_count": 33,
   "metadata": {},
   "outputs": [
    {
     "name": "stdout",
     "output_type": "stream",
     "text": [
      "['sami', 'Ali', 'Farhan', 'Mazhar', 'Faizan']\n"
     ]
    }
   ],
   "source": [
    "sajjan_beli.pop(2)\n",
    "print(sajjan_beli)"
   ]
  },
  {
   "cell_type": "code",
   "execution_count": 34,
   "metadata": {},
   "outputs": [
    {
     "name": "stdout",
     "output_type": "stream",
     "text": [
      "Now sami! u are invited for dinner.\n",
      "Now Ali! u are invited for dinner.\n",
      "Now Farhan! u are invited for dinner.\n",
      "Now Mazhar! u are invited for dinner.\n",
      "Now Faizan! u are invited for dinner.\n"
     ]
    }
   ],
   "source": [
    "for small_table1 in sajjan_beli:\n",
    "    print(f\"Now {small_table1}! u are invited for dinner.\")"
   ]
  },
  {
   "cell_type": "code",
   "execution_count": 35,
   "metadata": {},
   "outputs": [
    {
     "name": "stdout",
     "output_type": "stream",
     "text": [
      "Faizan\n"
     ]
    }
   ],
   "source": [
    "print(small_table1)\n"
   ]
  },
  {
   "cell_type": "code",
   "execution_count": 36,
   "metadata": {},
   "outputs": [],
   "source": [
    "del sajjan_beli[1]"
   ]
  },
  {
   "cell_type": "code",
   "execution_count": 37,
   "metadata": {},
   "outputs": [
    {
     "name": "stdout",
     "output_type": "stream",
     "text": [
      "['Farhan', 'Mazhar', 'Faizan']\n"
     ]
    }
   ],
   "source": [
    "del sajjan_beli[0]\n",
    "print(sajjan_beli)"
   ]
  },
  {
   "cell_type": "code",
   "execution_count": 38,
   "metadata": {},
   "outputs": [
    {
     "name": "stdout",
     "output_type": "stream",
     "text": [
      "['Mazhar', 'Faizan']\n"
     ]
    }
   ],
   "source": [
    "sajjan_beli.pop(0)\n",
    "print(sajjan_beli)"
   ]
  },
  {
   "cell_type": "code",
   "execution_count": 39,
   "metadata": {},
   "outputs": [
    {
     "name": "stdout",
     "output_type": "stream",
     "text": [
      "['Burj khalifa : dubai', 'Taj Mahal : india', 'Sahara desert : Africa', 'Eiffel tower : france', 'Great wall of chaina : chaina']\n"
     ]
    }
   ],
   "source": [
    "favrt_places = ['Burj khalifa : dubai' , 'Taj Mahal : india' , 'Sahara desert : Africa' , 'Eiffel tower : france' , 'Great wall of chaina : chaina']\n",
    "print(favrt_places)"
   ]
  },
  {
   "cell_type": "code",
   "execution_count": 40,
   "metadata": {},
   "outputs": [
    {
     "name": "stdout",
     "output_type": "stream",
     "text": [
      "Original list: ['Burj khalifa : dubai', 'Taj Mahal : india', 'Sahara desert : Africa', 'Eiffel tower : france', 'Great wall of chaina : chaina']\n"
     ]
    }
   ],
   "source": [
    "print('Original list:' ,  favrt_places)"
   ]
  },
  {
   "cell_type": "code",
   "execution_count": 41,
   "metadata": {},
   "outputs": [
    {
     "name": "stdout",
     "output_type": "stream",
     "text": [
      "Alphabetical order: ['Burj khalifa : dubai', 'Eiffel tower : france', 'Great wall of chaina : chaina', 'Sahara desert : Africa', 'Taj Mahal : india']\n"
     ]
    }
   ],
   "source": [
    "print('Alphabetical order:' , sorted(favrt_places))"
   ]
  },
  {
   "cell_type": "code",
   "execution_count": 42,
   "metadata": {},
   "outputs": [
    {
     "name": "stdout",
     "output_type": "stream",
     "text": [
      "Original list (after sorted): ['Burj khalifa : dubai', 'Taj Mahal : india', 'Sahara desert : Africa', 'Eiffel tower : france', 'Great wall of chaina : chaina']\n"
     ]
    }
   ],
   "source": [
    "print(\"Original list (after sorted):\" , favrt_places)"
   ]
  },
  {
   "cell_type": "code",
   "execution_count": 43,
   "metadata": {},
   "outputs": [
    {
     "name": "stdout",
     "output_type": "stream",
     "text": [
      "Reverse Alphabetical order: <list_reverseiterator object at 0x000001FAE754A470>\n"
     ]
    }
   ],
   "source": [
    "print('Reverse Alphabetical order:' , reversed(favrt_places))"
   ]
  },
  {
   "cell_type": "code",
   "execution_count": 44,
   "metadata": {},
   "outputs": [
    {
     "name": "stdout",
     "output_type": "stream",
     "text": [
      "Reverse Alphabetical order: ['Taj Mahal : india', 'Sahara desert : Africa', 'Great wall of chaina : chaina', 'Eiffel tower : france', 'Burj khalifa : dubai']\n"
     ]
    }
   ],
   "source": [
    "print('Reverse Alphabetical order:' , sorted(favrt_places , reverse = True))"
   ]
  },
  {
   "cell_type": "code",
   "execution_count": 45,
   "metadata": {},
   "outputs": [
    {
     "name": "stdout",
     "output_type": "stream",
     "text": [
      "['Burj khalifa : dubai', 'Taj Mahal : india', 'Sahara desert : Africa', 'Eiffel tower : france', 'Great wall of chaina : chaina']\n"
     ]
    }
   ],
   "source": [
    "print(favrt_places)"
   ]
  },
  {
   "cell_type": "code",
   "execution_count": 46,
   "metadata": {},
   "outputs": [
    {
     "name": "stdout",
     "output_type": "stream",
     "text": [
      "List after second reverse (back to original): ['Burj khalifa : dubai', 'Taj Mahal : india', 'Sahara desert : Africa', 'Eiffel tower : france', 'Great wall of chaina : chaina']\n"
     ]
    }
   ],
   "source": [
    "print(\"List after second reverse (back to original):\",favrt_places)"
   ]
  },
  {
   "cell_type": "code",
   "execution_count": 47,
   "metadata": {},
   "outputs": [
    {
     "name": "stdout",
     "output_type": "stream",
     "text": [
      "List sorted in alphabetical order: ['Burj khalifa : dubai', 'Eiffel tower : france', 'Great wall of chaina : chaina', 'Sahara desert : Africa', 'Taj Mahal : india']\n"
     ]
    }
   ],
   "source": [
    "favrt_places.sort()\n",
    "print(\"List sorted in alphabetical order:\", favrt_places)"
   ]
  },
  {
   "cell_type": "code",
   "execution_count": 48,
   "metadata": {},
   "outputs": [
    {
     "name": "stdout",
     "output_type": "stream",
     "text": [
      "['mountains', 'rivers', 'countries', 'cities', 'languages', 'snowfall']\n"
     ]
    }
   ],
   "source": [
    "List = ['mountains' , 'rivers' , 'countries' , 'cities' , 'languages' , 'snowfall']\n",
    "print(List)"
   ]
  },
  {
   "cell_type": "code",
   "execution_count": 50,
   "metadata": {},
   "outputs": [
    {
     "name": "stdout",
     "output_type": "stream",
     "text": [
      "countries\n",
      "cities\n",
      "languages\n"
     ]
    }
   ],
   "source": [
    "print(List[2])\n",
    "print(List[3])\n",
    "print(List[4])"
   ]
  },
  {
   "cell_type": "code",
   "execution_count": 55,
   "metadata": {},
   "outputs": [
    {
     "data": {
      "text/plain": [
       "1"
      ]
     },
     "execution_count": 55,
     "metadata": {},
     "output_type": "execute_result"
    }
   ],
   "source": [
    "List.index(\"rivers\")"
   ]
  },
  {
   "cell_type": "code",
   "execution_count": 56,
   "metadata": {},
   "outputs": [],
   "source": [
    "List.append('furniture')"
   ]
  },
  {
   "cell_type": "code",
   "execution_count": 57,
   "metadata": {},
   "outputs": [
    {
     "name": "stdout",
     "output_type": "stream",
     "text": [
      "['mountains', 'rivers', 'countries', 'cities', 'languages', 'snowfall', 'furniture']\n"
     ]
    }
   ],
   "source": [
    "print(List)"
   ]
  },
  {
   "cell_type": "code",
   "execution_count": 58,
   "metadata": {},
   "outputs": [
    {
     "name": "stdout",
     "output_type": "stream",
     "text": [
      "['mountains', 'rivers', 'bags', 'cities', 'languages', 'snowfall', 'furniture']\n"
     ]
    }
   ],
   "source": [
    "List[2] = 'bags'\n",
    "print(List)"
   ]
  },
  {
   "cell_type": "code",
   "execution_count": 60,
   "metadata": {},
   "outputs": [
    {
     "name": "stdout",
     "output_type": "stream",
     "text": [
      "['studies', 'mountains', 'rivers', 'bags', 'cities', 'languages', 'snowfall', 'furniture']\n"
     ]
    }
   ],
   "source": [
    "List.insert(0 , 'studies')\n",
    "print(List)"
   ]
  },
  {
   "cell_type": "code",
   "execution_count": 61,
   "metadata": {},
   "outputs": [
    {
     "data": {
      "text/plain": [
       "'furniture'"
      ]
     },
     "execution_count": 61,
     "metadata": {},
     "output_type": "execute_result"
    }
   ],
   "source": [
    "List.pop()"
   ]
  },
  {
   "cell_type": "code",
   "execution_count": 62,
   "metadata": {},
   "outputs": [
    {
     "data": {
      "text/plain": [
       "'mountains'"
      ]
     },
     "execution_count": 62,
     "metadata": {},
     "output_type": "execute_result"
    }
   ],
   "source": [
    "List.pop(1)"
   ]
  },
  {
   "cell_type": "code",
   "execution_count": 67,
   "metadata": {},
   "outputs": [
    {
     "name": "stdout",
     "output_type": "stream",
     "text": [
      "['studies', 'rivers', 'bags', 'cities', 'languages', 'snowfall']\n"
     ]
    }
   ],
   "source": [
    "print(List)"
   ]
  },
  {
   "cell_type": "code",
   "execution_count": 72,
   "metadata": {},
   "outputs": [],
   "source": [
    "List.remove('bags')"
   ]
  },
  {
   "cell_type": "code",
   "execution_count": 73,
   "metadata": {},
   "outputs": [
    {
     "name": "stdout",
     "output_type": "stream",
     "text": [
      "['studies', 'rivers', 'cities', 'languages', 'snowfall']\n"
     ]
    }
   ],
   "source": [
    "print(List)"
   ]
  },
  {
   "cell_type": "code",
   "execution_count": 80,
   "metadata": {},
   "outputs": [
    {
     "ename": "ValueError",
     "evalue": "'tiles' is not in list",
     "output_type": "error",
     "traceback": [
      "\u001b[1;31m---------------------------------------------------------------------------\u001b[0m",
      "\u001b[1;31mValueError\u001b[0m                                Traceback (most recent call last)",
      "Cell \u001b[1;32mIn[80], line 1\u001b[0m\n\u001b[1;32m----> 1\u001b[0m \u001b[38;5;28mprint\u001b[39m(\u001b[43mList\u001b[49m\u001b[38;5;241;43m.\u001b[39;49m\u001b[43mindex\u001b[49m\u001b[43m(\u001b[49m\u001b[38;5;124;43m'\u001b[39;49m\u001b[38;5;124;43mtiles\u001b[39;49m\u001b[38;5;124;43m'\u001b[39;49m\u001b[43m)\u001b[49m)\n",
      "\u001b[1;31mValueError\u001b[0m: 'tiles' is not in list"
     ]
    }
   ],
   "source": [
    "print(List.index('tiles'))"
   ]
  }
 ],
 "metadata": {
  "kernelspec": {
   "display_name": "Python 3",
   "language": "python",
   "name": "python3"
  },
  "language_info": {
   "codemirror_mode": {
    "name": "ipython",
    "version": 3
   },
   "file_extension": ".py",
   "mimetype": "text/x-python",
   "name": "python",
   "nbconvert_exporter": "python",
   "pygments_lexer": "ipython3",
   "version": "3.12.4"
  }
 },
 "nbformat": 4,
 "nbformat_minor": 2
}
